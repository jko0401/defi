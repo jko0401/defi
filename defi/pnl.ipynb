{
 "cells": [
  {
   "cell_type": "code",
   "execution_count": 143,
   "id": "cf0306c8",
   "metadata": {},
   "outputs": [],
   "source": [
    "import warnings\n",
    "warnings.filterwarnings(\"ignore\")"
   ]
  },
  {
   "cell_type": "code",
   "execution_count": 154,
   "id": "8695e874",
   "metadata": {},
   "outputs": [],
   "source": [
    "import pandas as pd\n",
    "def pnl(txns, method):\n",
    "    txns['Date'] = pd.to_datetime(txns['Date'], dayfirst=True, infer_datetime_format=True)\n",
    "    txns['Profit'] = 0\n",
    "    \n",
    "    df = pd.DataFrame()\n",
    "    tolerance = 1e-10\n",
    "    for token in list(set(txns['Token'].unique())):\n",
    "        tk = txns[(txns['Token'] == token)].copy()\n",
    "        buys = tk[((txns['Type'] == 'trade-buy') | (tk['Type'] == 'buy-in') | (tk['Type'] == 'receive'))].copy() \n",
    "\n",
    "        if method == 'FIFO':\n",
    "            buys = buys.sort_values(by='Date', ascending=False)\n",
    "        elif method == 'HIFO':\n",
    "            buys = buys.sort_values(by='Basis', ascending=True)\n",
    "\n",
    "        sells = tk[((tk['Type'] == 'trade-sell') | (tk['Type'] == 'sell-out'))].copy()\n",
    "        sells = sells.sort_values(by='Date', ascending=True)\n",
    "\n",
    "        calcs = {}\n",
    "        \n",
    "        for i, s in sells.iterrows():\n",
    "            date = s['Date']\n",
    "            wallet = s['Wallet']\n",
    "            amount = s['Amount']\n",
    "            buywindow = buys[buys['Date'] <= date]\n",
    "            buydict = buywindow.to_dict('index')\n",
    "            while amount > tolerance:\n",
    "                try:\n",
    "                    buy = buydict.popitem()\n",
    "                    leftover = amount - buy[1]['Amount']\n",
    "                    calcs[0] = {'Date':date, 'Wallet':wallet, 'Token':token}\n",
    "                    calcs[0]['Sell Basis'] = s['Basis']\n",
    "                    calcs[0]['Buy Basis'] = buy[1]['Basis']\n",
    "                    calcs[0]['Buy Date'] = buy[1]['Date']\n",
    "                    calcs[0]['Buy Lot'] = buy[1]['Amount']\n",
    "                    calcs[0]['Period'] = s['Date'] - buy[1]['Date']\n",
    "\n",
    "                    if leftover >= 0:\n",
    "                        calcs[0]['Amount'] = buy[1]['Amount']\n",
    "                        profit = calcs[0]['Amount'] * (calcs[0]['Sell Basis'] - calcs[0]['Buy Basis'])\n",
    "                        calcs[0]['Profit'] = profit\n",
    "                        amount = leftover\n",
    "                    else:     \n",
    "                        calcs[0]['Amount'] = buy[1]['Amount']+leftover\n",
    "                        profit = calcs[0]['Amount'] * (calcs[0]['Sell Basis'] - calcs[0]['Buy Basis'])\n",
    "                        calcs[0]['Profit'] = profit\n",
    "                        buy[1]['Amount'] = -leftover\n",
    "                        buydict[buy[0]] = buy[1]\n",
    "                        amount = 0\n",
    "                    df = pd.concat([df, pd.DataFrame.from_dict(calcs, orient='index')])\n",
    "                except KeyError:\n",
    "                    print(f'No more {token} to sell from before {date}.')\n",
    "                    break\n",
    "    \n",
    "    df.reset_index(inplace=True)\n",
    "    df.drop(columns=['index'], inplace=True)\n",
    "    return df"
   ]
  },
  {
   "cell_type": "code",
   "execution_count": 157,
   "id": "fa35b9c5",
   "metadata": {},
   "outputs": [
    {
     "name": "stdout",
     "output_type": "stream",
     "text": [
      "No more QTUM to sell from before 2020-02-06 00:00:00.\n",
      "FIFO Profit: -2044.962917211711\n",
      "No more QTUM to sell from before 2020-02-06 00:00:00.\n",
      "HIFO Profit: -7112.939458990609\n"
     ]
    }
   ],
   "source": [
    "data = pd.read_csv('transactions.csv', names=[\"Date\", 'Wallet', 'Token', 'Amount', 'Basis', 'Value', 'Fee', 'Type'])\n",
    "methods = ['FIFO', 'HIFO']\n",
    "for m in methods:\n",
    "    result = pnl(data, m)\n",
    "    result.to_csv(f'pnl-2021-{m}.csv')\n",
    "    print(f'{m} Profit: {result.Profit.sum()}')"
   ]
  },
  {
   "cell_type": "code",
   "execution_count": null,
   "id": "bd527e6a",
   "metadata": {},
   "outputs": [],
   "source": []
  }
 ],
 "metadata": {
  "kernelspec": {
   "display_name": "Python 3 (ipykernel)",
   "language": "python",
   "name": "python3"
  },
  "language_info": {
   "codemirror_mode": {
    "name": "ipython",
    "version": 3
   },
   "file_extension": ".py",
   "mimetype": "text/x-python",
   "name": "python",
   "nbconvert_exporter": "python",
   "pygments_lexer": "ipython3",
   "version": "3.9.7"
  }
 },
 "nbformat": 4,
 "nbformat_minor": 5
}
