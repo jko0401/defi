{
 "cells": [
  {
   "cell_type": "code",
   "execution_count": 143,
   "id": "be88e032",
   "metadata": {},
   "outputs": [],
   "source": [
    "import warnings\n",
    "warnings.filterwarnings(\"ignore\")"
   ]
  },
  {
   "cell_type": "code",
   "execution_count": 166,
   "id": "1956a2a0",
   "metadata": {},
   "outputs": [],
   "source": [
    "import pandas as pd\n",
    "def pnl(txns, method):\n",
    "    txns['Date'] = pd.to_datetime(txns['Date'], dayfirst=True, infer_datetime_format=True)\n",
    "    txns['Profit'] = 0\n",
    "    \n",
    "    df = pd.DataFrame()\n",
    "    tolerance = 1e-10\n",
    "    for token in list(set(txns['Token'].unique())):\n",
    "        tk = txns[(txns['Token'] == token)].copy()\n",
    "        buys = tk[((txns['Type'] == 'trade-buy') | (tk['Type'] == 'buy-in') | (tk['Type'] == 'receive'))].copy() \n",
    "\n",
    "        if method == 'FIFO':\n",
    "            buys = buys.sort_values(by='Date', ascending=False)\n",
    "        elif method == 'HIFO':\n",
    "            buys = buys.sort_values(by='Basis', ascending=True)\n",
    "\n",
    "        sells = tk[((tk['Type'] == 'trade-sell') | (tk['Type'] == 'sell-out'))].copy()\n",
    "        sells = sells.sort_values(by='Date', ascending=True)\n",
    "\n",
    "        calcs = {}\n",
    "        \n",
    "        for i, s in sells.iterrows():\n",
    "            date = s['Date']\n",
    "            wallet = s['Wallet']\n",
    "            amount = s['Amount']\n",
    "            buywindow = buys[buys['Date'] <= date]\n",
    "            buydict = buywindow.to_dict('index')\n",
    "            while amount > tolerance:\n",
    "                try:\n",
    "                    buy = buydict.popitem()\n",
    "                    leftover = amount - buy[1]['Amount']\n",
    "                    calcs[0] = {'Date':date, 'Wallet':wallet, 'Token':token}\n",
    "                    sbasis = s['Basis']\n",
    "                    bbasis = buy[1]['Basis']\n",
    "                    bdate = buy[1]['Date']\n",
    "                    period = s['Date'] - buy[1]['Date']\n",
    "                    \n",
    "\n",
    "                    if leftover >= 0:\n",
    "                        sold = buy[1]['Amount']\n",
    "                        bvalue = sold * bbasis\n",
    "                        proceeds = sold * sbasis\n",
    "                        profit = sold * (sbasis - bbasis) \n",
    "                        amount = leftover\n",
    "                    else:     \n",
    "                        sold = buy[1]['Amount']+leftover\n",
    "                        bbvalue = amount * buy[1]['Basis']\n",
    "                        proceeds = sold * sbasis    \n",
    "                        \n",
    "                        buy[1]['Amount'] = -leftover\n",
    "                        buydict[buy[0]] = buy[1]\n",
    "                        amount = 0\n",
    "                    \n",
    "                    calcs[0]['Sell Basis'] = sbasis\n",
    "                    calcs[0]['Sold'] = sold\n",
    "                    calcs[0]['Proceeds'] = proceeds\n",
    "                    calcs[0]['Buy Basis'] = bbasis\n",
    "                    calcs[0]['Buy Value'] = bvalue\n",
    "                    calcs[0]['Buy Date'] = bdate\n",
    "                    calcs[0]['Period'] = period\n",
    "                    calcs[0]['Profit'] = profit\n",
    "                    \n",
    "                    df = pd.concat([df, pd.DataFrame.from_dict(calcs, orient='index')])\n",
    "                except KeyError:\n",
    "                    print(f'No more {token} to sell from before {date}.')\n",
    "                    break\n",
    "    \n",
    "    df.reset_index(inplace=True)\n",
    "    df.drop(columns=['index'], inplace=True)\n",
    "    return df"
   ]
  },
  {
   "cell_type": "code",
   "execution_count": 167,
   "id": "6abe51f4",
   "metadata": {},
   "outputs": [
    {
     "ename": "UnboundLocalError",
     "evalue": "local variable 'sold' referenced before assignment",
     "output_type": "error",
     "traceback": [
      "\u001b[1;31m---------------------------------------------------------------------------\u001b[0m",
      "\u001b[1;31mUnboundLocalError\u001b[0m                         Traceback (most recent call last)",
      "Input \u001b[1;32mIn [167]\u001b[0m, in \u001b[0;36m<cell line: 3>\u001b[1;34m()\u001b[0m\n\u001b[0;32m      2\u001b[0m methods \u001b[38;5;241m=\u001b[39m [\u001b[38;5;124m'\u001b[39m\u001b[38;5;124mFIFO\u001b[39m\u001b[38;5;124m'\u001b[39m, \u001b[38;5;124m'\u001b[39m\u001b[38;5;124mHIFO\u001b[39m\u001b[38;5;124m'\u001b[39m]\n\u001b[0;32m      3\u001b[0m \u001b[38;5;28;01mfor\u001b[39;00m m \u001b[38;5;129;01min\u001b[39;00m methods:\n\u001b[1;32m----> 4\u001b[0m     result \u001b[38;5;241m=\u001b[39m \u001b[43mpnl\u001b[49m\u001b[43m(\u001b[49m\u001b[43mdata\u001b[49m\u001b[43m,\u001b[49m\u001b[43m \u001b[49m\u001b[43mm\u001b[49m\u001b[43m)\u001b[49m\n\u001b[0;32m      5\u001b[0m     result\u001b[38;5;241m.\u001b[39mto_csv(\u001b[38;5;124mf\u001b[39m\u001b[38;5;124m'\u001b[39m\u001b[38;5;124mpnl-2021-\u001b[39m\u001b[38;5;132;01m{\u001b[39;00mm\u001b[38;5;132;01m}\u001b[39;00m\u001b[38;5;124m.csv\u001b[39m\u001b[38;5;124m'\u001b[39m)\n\u001b[0;32m      6\u001b[0m     \u001b[38;5;28mprint\u001b[39m(\u001b[38;5;124mf\u001b[39m\u001b[38;5;124m'\u001b[39m\u001b[38;5;132;01m{\u001b[39;00mm\u001b[38;5;132;01m}\u001b[39;00m\u001b[38;5;124m Profit: \u001b[39m\u001b[38;5;132;01m{\u001b[39;00mresult\u001b[38;5;241m.\u001b[39mProfit\u001b[38;5;241m.\u001b[39msum()\u001b[38;5;132;01m}\u001b[39;00m\u001b[38;5;124m'\u001b[39m)\n",
      "Input \u001b[1;32mIn [166]\u001b[0m, in \u001b[0;36mpnl\u001b[1;34m(txns, method)\u001b[0m\n\u001b[0;32m     35\u001b[0m bdate \u001b[38;5;241m=\u001b[39m buy[\u001b[38;5;241m1\u001b[39m][\u001b[38;5;124m'\u001b[39m\u001b[38;5;124mDate\u001b[39m\u001b[38;5;124m'\u001b[39m]\n\u001b[0;32m     36\u001b[0m period \u001b[38;5;241m=\u001b[39m s[\u001b[38;5;124m'\u001b[39m\u001b[38;5;124mDate\u001b[39m\u001b[38;5;124m'\u001b[39m] \u001b[38;5;241m-\u001b[39m buy[\u001b[38;5;241m1\u001b[39m][\u001b[38;5;124m'\u001b[39m\u001b[38;5;124mDate\u001b[39m\u001b[38;5;124m'\u001b[39m]\n\u001b[1;32m---> 37\u001b[0m profit \u001b[38;5;241m=\u001b[39m \u001b[43msold\u001b[49m \u001b[38;5;241m*\u001b[39m (sbasis \u001b[38;5;241m-\u001b[39m bbasis) \n\u001b[0;32m     39\u001b[0m \u001b[38;5;28;01mif\u001b[39;00m leftover \u001b[38;5;241m>\u001b[39m\u001b[38;5;241m=\u001b[39m \u001b[38;5;241m0\u001b[39m:\n\u001b[0;32m     40\u001b[0m     sold \u001b[38;5;241m=\u001b[39m buy[\u001b[38;5;241m1\u001b[39m][\u001b[38;5;124m'\u001b[39m\u001b[38;5;124mAmount\u001b[39m\u001b[38;5;124m'\u001b[39m]\n",
      "\u001b[1;31mUnboundLocalError\u001b[0m: local variable 'sold' referenced before assignment"
     ]
    }
   ],
   "source": [
    "data = pd.read_csv('transactions.csv', names=[\"Date\", 'Wallet', 'Token', 'Amount', 'Basis', 'Value', 'Fee', 'Type'])\n",
    "methods = ['FIFO', 'HIFO']\n",
    "for m in methods:\n",
    "    result = pnl(data, m)\n",
    "    result.to_csv(f'pnl-2021-{m}.csv')\n",
    "    print(f'{m} Profit: {result.Profit.sum()}')"
   ]
  },
  {
   "cell_type": "code",
   "execution_count": null,
   "id": "aad4f8df",
   "metadata": {},
   "outputs": [],
   "source": []
  }
 ],
 "metadata": {
  "kernelspec": {
   "display_name": "Python 3 (ipykernel)",
   "language": "python",
   "name": "python3"
  },
  "language_info": {
   "codemirror_mode": {
    "name": "ipython",
    "version": 3
   },
   "file_extension": ".py",
   "mimetype": "text/x-python",
   "name": "python",
   "nbconvert_exporter": "python",
   "pygments_lexer": "ipython3",
   "version": "3.9.7"
  }
 },
 "nbformat": 4,
 "nbformat_minor": 5
}
