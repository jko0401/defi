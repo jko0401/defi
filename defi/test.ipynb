{
 "cells": [
  {
   "cell_type": "code",
   "execution_count": 1,
   "metadata": {},
   "outputs": [],
   "source": [
    "import pandas as pd\n",
    "from main import Platform, Coin\n",
    "\n",
    "import defi_tools as dft\n",
    "\n",
    "portfolio = pd.read_csv('portfolio.csv')\n",
    "portfolio.fillna(0, inplace=True)\n",
    "portfolio.drop('Unnamed: 0', axis=1, inplace=True)\n",
    "portfolio.rename(columns={'Unnamed: 1':'id'}, inplace=True)\n",
    "portfolio.rename(columns={'Coinbase Pro':'Coinbase_Pro'}, inplace=True)\n",
    "portfolio.set_index('id', inplace=True)\n"
   ]
  },
  {
   "cell_type": "code",
   "execution_count": 2,
   "metadata": {},
   "outputs": [
    {
     "data": {
      "text/html": [
       "<div>\n",
       "<style scoped>\n",
       "    .dataframe tbody tr th:only-of-type {\n",
       "        vertical-align: middle;\n",
       "    }\n",
       "\n",
       "    .dataframe tbody tr th {\n",
       "        vertical-align: top;\n",
       "    }\n",
       "\n",
       "    .dataframe thead th {\n",
       "        text-align: right;\n",
       "    }\n",
       "</style>\n",
       "<table border=\"1\" class=\"dataframe\">\n",
       "  <thead>\n",
       "    <tr style=\"text-align: right;\">\n",
       "      <th></th>\n",
       "      <th>Ledger</th>\n",
       "      <th>Coinbase</th>\n",
       "      <th>Coinbase_Pro</th>\n",
       "      <th>BlockFi</th>\n",
       "      <th>TerraStation</th>\n",
       "      <th>KuCoin</th>\n",
       "      <th>Trust</th>\n",
       "      <th>Metamask</th>\n",
       "      <th>CDC</th>\n",
       "      <th>Anchor</th>\n",
       "    </tr>\n",
       "    <tr>\n",
       "      <th>id</th>\n",
       "      <th></th>\n",
       "      <th></th>\n",
       "      <th></th>\n",
       "      <th></th>\n",
       "      <th></th>\n",
       "      <th></th>\n",
       "      <th></th>\n",
       "      <th></th>\n",
       "      <th></th>\n",
       "      <th></th>\n",
       "    </tr>\n",
       "  </thead>\n",
       "  <tbody>\n",
       "    <tr>\n",
       "      <th>ethereum</th>\n",
       "      <td>1.01</td>\n",
       "      <td>0.000000</td>\n",
       "      <td>0.35</td>\n",
       "      <td>0.849155</td>\n",
       "      <td>0.0</td>\n",
       "      <td>0.000000</td>\n",
       "      <td>0.0</td>\n",
       "      <td>0.0315</td>\n",
       "      <td>0.0495</td>\n",
       "      <td>0.000</td>\n",
       "    </tr>\n",
       "    <tr>\n",
       "      <th>terrausd</th>\n",
       "      <td>0.00</td>\n",
       "      <td>0.000000</td>\n",
       "      <td>0.00</td>\n",
       "      <td>0.000000</td>\n",
       "      <td>7004.0</td>\n",
       "      <td>0.000000</td>\n",
       "      <td>0.0</td>\n",
       "      <td>0.0000</td>\n",
       "      <td>0.0000</td>\n",
       "      <td>480.234</td>\n",
       "    </tr>\n",
       "    <tr>\n",
       "      <th>usd-coin</th>\n",
       "      <td>0.00</td>\n",
       "      <td>0.003664</td>\n",
       "      <td>1.00</td>\n",
       "      <td>7502.660000</td>\n",
       "      <td>0.0</td>\n",
       "      <td>0.000000</td>\n",
       "      <td>0.0</td>\n",
       "      <td>0.0000</td>\n",
       "      <td>0.0000</td>\n",
       "      <td>0.000</td>\n",
       "    </tr>\n",
       "    <tr>\n",
       "      <th>bitcoin</th>\n",
       "      <td>0.00</td>\n",
       "      <td>0.001958</td>\n",
       "      <td>0.07</td>\n",
       "      <td>0.034949</td>\n",
       "      <td>0.0</td>\n",
       "      <td>0.008771</td>\n",
       "      <td>0.0</td>\n",
       "      <td>0.0000</td>\n",
       "      <td>0.0040</td>\n",
       "      <td>0.000</td>\n",
       "    </tr>\n",
       "    <tr>\n",
       "      <th>cardano</th>\n",
       "      <td>0.00</td>\n",
       "      <td>0.000000</td>\n",
       "      <td>2755.00</td>\n",
       "      <td>0.000000</td>\n",
       "      <td>0.0</td>\n",
       "      <td>0.195800</td>\n",
       "      <td>0.0</td>\n",
       "      <td>0.0000</td>\n",
       "      <td>0.0000</td>\n",
       "      <td>0.000</td>\n",
       "    </tr>\n",
       "  </tbody>\n",
       "</table>\n",
       "</div>"
      ],
      "text/plain": [
       "          Ledger  Coinbase  Coinbase_Pro      BlockFi  TerraStation    KuCoin  \\\n",
       "id                                                                              \n",
       "ethereum    1.01  0.000000          0.35     0.849155           0.0  0.000000   \n",
       "terrausd    0.00  0.000000          0.00     0.000000        7004.0  0.000000   \n",
       "usd-coin    0.00  0.003664          1.00  7502.660000           0.0  0.000000   \n",
       "bitcoin     0.00  0.001958          0.07     0.034949           0.0  0.008771   \n",
       "cardano     0.00  0.000000       2755.00     0.000000           0.0  0.195800   \n",
       "\n",
       "          Trust  Metamask     CDC   Anchor  \n",
       "id                                          \n",
       "ethereum    0.0    0.0315  0.0495    0.000  \n",
       "terrausd    0.0    0.0000  0.0000  480.234  \n",
       "usd-coin    0.0    0.0000  0.0000    0.000  \n",
       "bitcoin     0.0    0.0000  0.0040    0.000  \n",
       "cardano     0.0    0.0000  0.0000    0.000  "
      ]
     },
     "execution_count": 2,
     "metadata": {},
     "output_type": "execute_result"
    }
   ],
   "source": [
    "portfolio.head()"
   ]
  },
  {
   "cell_type": "code",
   "execution_count": 3,
   "metadata": {},
   "outputs": [],
   "source": [
    "platforms = {k:'' for k in portfolio.columns}\n",
    "ids = portfolio.index.tolist()\n",
    "prices = {i:dft.geckoPrice(i, 'usd')[i]['usd'] for i in ids} "
   ]
  },
  {
   "cell_type": "code",
   "execution_count": 4,
   "metadata": {},
   "outputs": [],
   "source": [
    "for p in platforms.keys():\n",
    "    platforms[p] = Platform(p)\n",
    "    for i in ids:\n",
    "        coin = Coin(coin=i, price=float(prices[i]), holdings=portfolio.loc[i][p])\n",
    "        platforms[p].add(coin)"
   ]
  },
  {
   "cell_type": "code",
   "execution_count": 5,
   "metadata": {},
   "outputs": [
    {
     "data": {
      "text/plain": [
       "13350.47731554"
      ]
     },
     "execution_count": 5,
     "metadata": {},
     "output_type": "execute_result"
    }
   ],
   "source": [
    "platforms['Coinbase_Pro'].value()"
   ]
  },
  {
   "cell_type": "code",
   "execution_count": 6,
   "metadata": {},
   "outputs": [
    {
     "data": {
      "text/plain": [
       "0.35"
      ]
     },
     "execution_count": 6,
     "metadata": {},
     "output_type": "execute_result"
    }
   ],
   "source": [
    "platforms['Coinbase_Pro'].tokens(token='ethereum')"
   ]
  },
  {
   "cell_type": "code",
   "execution_count": null,
   "metadata": {},
   "outputs": [],
   "source": []
  }
 ],
 "metadata": {
  "interpreter": {
   "hash": "f541339c717184d843c9953eed5dedd8f53a2d0118452524ea07f41e2ccc334c"
  },
  "kernelspec": {
   "display_name": "Python 3.8.8 64-bit ('base': conda)",
   "language": "python",
   "name": "python3"
  },
  "language_info": {
   "codemirror_mode": {
    "name": "ipython",
    "version": 3
   },
   "file_extension": ".py",
   "mimetype": "text/x-python",
   "name": "python",
   "nbconvert_exporter": "python",
   "pygments_lexer": "ipython3",
   "version": "3.8.8"
  },
  "orig_nbformat": 4
 },
 "nbformat": 4,
 "nbformat_minor": 2
}
